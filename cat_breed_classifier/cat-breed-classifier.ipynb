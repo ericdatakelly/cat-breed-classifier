{
 "cells": [
  {
   "cell_type": "markdown",
   "metadata": {},
   "source": [
    "# Cat Breed Classifier\n",
    "Gets a cat image from thecatapi.com and classifies its breed"
   ]
  },
  {
   "cell_type": "code",
   "execution_count": null,
   "metadata": {},
   "outputs": [],
   "source": [
    "import os\n",
    "import requests\n",
    "from PIL import Image\n",
    "from io import BytesIO\n",
    "import torch\n",
    "import torch.nn as nn\n",
    "import torch.nn.functional as F\n",
    "from torchvision import models\n",
    "import torchvision.transforms as transforms\n",
    "import matplotlib.pyplot as plt"
   ]
  },
  {
   "cell_type": "code",
   "execution_count": null,
   "metadata": {},
   "outputs": [],
   "source": [
    "def load_api_key(file_path):\n",
    "    \"\"\"Load the API key from a file.\"\"\"\n",
    "    try:\n",
    "        with open(file_path, 'r') as file:\n",
    "            return file.readline().strip()\n",
    "    except FileNotFoundError:\n",
    "        raise Exception(\"API key file not found.\")\n",
    "    except Exception as e:\n",
    "        raise Exception(f\"An error occurred while reading the API key: {str(e)}\")\n",
    "\n",
    "api_key_path = os.path.expanduser('~/.config/catapi/api_key.txt')\n",
    "api_key = load_api_key(api_key_path)\n"
   ]
  },
  {
   "cell_type": "code",
   "execution_count": null,
   "metadata": {},
   "outputs": [],
   "source": [
    "breed_mapping = {1: 'Abyssinian', 2: 'Bengal', 3: 'Birman', 4: 'Bombay', 5: 'British Shorthair', 6: 'Egyptian Mau', 7: 'Maine Coon', 8: 'Persian', 9: 'Ragdoll', 10: 'Russian Blue', 11: 'Siamese', 12: 'Sphynx'}\n",
    "breed_mapping = {k - 1: v for k, v in breed_mapping.items()}"
   ]
  },
  {
   "cell_type": "code",
   "execution_count": null,
   "metadata": {},
   "outputs": [],
   "source": [
    "# Load model\n",
    "model = models.resnet50(pretrained=False)\n",
    "\n",
    "# Adjust the final layer to match modified model from training\n",
    "num_ftrs = model.fc.in_features\n",
    "num_classes = len(breed_mapping)\n",
    "model.fc = nn.Linear(num_ftrs, num_classes)\n",
    "\n",
    "# Load the weights\n",
    "model.load_state_dict(torch.load('cat_breed_classifier_32_300_0.180.pth'))\n",
    "\n",
    "model.eval();"
   ]
  },
  {
   "cell_type": "code",
   "execution_count": null,
   "metadata": {},
   "outputs": [],
   "source": [
    "def prepare_image(image_url):\n",
    "    \"\"\"Prepare the image for classification.\"\"\"\n",
    "    headers = {'x-api-key': api_key}\n",
    "    response = requests.get(image_url, headers=headers)\n",
    "    image = Image.open(BytesIO(response.content)).convert('RGB')\n",
    "    transform = transforms.Compose([\n",
    "        transforms.Resize(256),\n",
    "        transforms.CenterCrop(224),\n",
    "        transforms.ToTensor(),\n",
    "        transforms.Normalize(mean=[0.485, 0.456, 0.406], std=[0.229, 0.224, 0.225])\n",
    "    ])\n",
    "    image_tensor = transform(image).unsqueeze(0)  # Add batch dimension\n",
    "    return image_tensor\n",
    "\n",
    "def fetch_image_url():\n",
    "    \"\"\"Fetch a random cat image URL from the API.\"\"\"\n",
    "    api_url = 'https://api.thecatapi.com/v1/images/search?size=med&mime_types=jpg&format=json&has_breeds=true&order=RANDOM&page=0&limit=1'\n",
    "    headers = {'x-api-key': api_key}\n",
    "    response = requests.get(api_url, headers=headers)\n",
    "    image_data = response.json()\n",
    "    if image_data:\n",
    "        return image_data[0]['url']\n",
    "    return None\n",
    "\n",
    "def classify_image(image_url, model, breed_mapping):\n",
    "    \"\"\"Classify the image to predict the breed and return the top predictions with their confidence scores.\"\"\"\n",
    "    image_tensor = prepare_image(image_url)\n",
    "    with torch.no_grad():\n",
    "        outputs = model(image_tensor)\n",
    "        probabilities = F.softmax(outputs, dim=1)\n",
    "        top_probs, top_idxs = torch.topk(probabilities, 3)\n",
    "\n",
    "        # Filter predictions above 5% confidence\n",
    "        valid_predictions = [(breed_mapping[idx.item()], prob.item() * 100) for idx, prob in zip(top_idxs[0], top_probs[0]) if prob.item() > 0.05]\n",
    "        \n",
    "    return valid_predictions\n",
    "\n",
    "def display_image_with_prediction(model, breed_mapping):\n",
    "    \"\"\"Fetch an image, classify it and display the image with the top predictions.\"\"\"\n",
    "    image_url = fetch_image_url()\n",
    "    if image_url:\n",
    "        predictions = classify_image(image_url, model, breed_mapping)\n",
    "\n",
    "        response = requests.get(image_url)\n",
    "        image = Image.open(BytesIO(response.content))\n",
    "\n",
    "        plt.figure(figsize=(8, 8))\n",
    "        plt.imshow(image)\n",
    "        plt.axis('off')\n",
    "\n",
    "        if predictions:\n",
    "            title_text = '\\n'.join([f\"{breed} ({conf:.1f}%)\" for breed, conf in predictions])\n",
    "        else:\n",
    "            title_text = \"No confident predictions\"\n",
    "\n",
    "        plt.title(title_text)\n",
    "        plt.show()\n",
    "    else:\n",
    "        print(\"No image found.\")"
   ]
  },
  {
   "cell_type": "code",
   "execution_count": null,
   "metadata": {},
   "outputs": [],
   "source": [
    "display_image_with_prediction(model, breed_mapping)"
   ]
  }
 ],
 "metadata": {
  "kernelspec": {
   "display_name": "cat-breeds",
   "language": "python",
   "name": "python3"
  },
  "language_info": {
   "codemirror_mode": {
    "name": "ipython",
    "version": 3
   },
   "file_extension": ".py",
   "mimetype": "text/x-python",
   "name": "python",
   "nbconvert_exporter": "python",
   "pygments_lexer": "ipython3",
   "version": "3.10.14"
  }
 },
 "nbformat": 4,
 "nbformat_minor": 2
}
